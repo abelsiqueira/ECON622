{
  "cells": [
    {
      "cell_type": "markdown",
      "metadata": {},
      "source": [
        "# ECON622\n",
        "\n",
        "To use with Jupyter, clone the repository or download the notebooks.\n",
        "\n",
        "# Lectures\n",
        "\n",
        "1.  <a href=\"factorizations_direct_methods.html\"\n",
        "    target=\"_blank\">Factorizations and Direct Methods</a>,\n",
        "    <a href=\"factorizations_direct_methods.ipynb\"\n",
        "    target=\"_blank\">Jupyter</a>\n",
        "2.  <a href=\"least_squares.html\" target=\"_blank\">Least Squares</a>,\n",
        "    <a href=\"least_squares.ipynb\" target=\"_blank\">Jupyter</a>\n",
        "3.  <a href=\"iterative_methods.html\" target=\"_blank\">Linear Algebra and\n",
        "    Iterative Methods</a>,\n",
        "    <a href=\"iterative_methods.ipynb\" target=\"_blank\">Jupyter</a>\n",
        "4.  <a href=\"intro_to_ml.html\" target=\"_blank\">Intro to ML</a>,\n",
        "    <a href=\"intro_to_ml.ipynb\" target=\"_blank\">Jupyter</a>\n",
        "5.  <a href=\"differentiation.html\" target=\"_blank\">Differentiation</a>,\n",
        "    <a href=\"differentiation.ipynb\" target=\"_blank\">Jupyter</a>"
      ],
      "id": "16a454d8-b85d-49ba-8d5b-c8565beb23f7"
    }
  ],
  "nbformat": 4,
  "nbformat_minor": 5,
  "metadata": {
    "kernelspec": {
      "display_name": "Python 3",
      "language": "python",
      "name": "python3"
    }
  }
}