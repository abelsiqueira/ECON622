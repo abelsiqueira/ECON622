{
  "cells": [
    {
      "cell_type": "markdown",
      "metadata": {},
      "source": [
        "# ECON622: Assignment 4\n",
        "\n",
        "# Q1\n",
        "\n",
        "Install Conda, [VS Code Python\n",
        "Extension](https://marketplace.visualstudio.com/items?itemName=ms-python.python),\n",
        "[Black\n",
        "Formatter](https://marketplace.visualstudio.com/items?itemName=ms-python.black-formatter),\n",
        "[GitHub\n",
        "Copilot](https://marketplace.visualstudio.com/items?itemName=GitHub.copilot)\n",
        "and [GitHub Copilot\n",
        "Chat](https://marketplace.visualstudio.com/items?itemName=GitHub.copilot-chat)\n",
        "\n",
        "You will need to be on python 3.11 for certain packages to work. The\n",
        "recommendation is always to use a conda environment Set up a conda\n",
        "environment to work in for this course and to practice virtual\n",
        "environments, and then install the packages -\n",
        "`conda create -n econ622 python=3.11` - `conda activate econ622` -\n",
        "`pip install -r requirements.txt`\n",
        "\n",
        "Some imported packages which will tell you if you have a successful\n",
        "installation"
      ],
      "id": "6fb1b48b-7f2d-413e-8174-97121b010cb6"
    },
    {
      "cell_type": "code",
      "execution_count": 1,
      "metadata": {},
      "outputs": [],
      "source": [
        "import numpy as np\n",
        "import matplotlib.pyplot as plt\n",
        "import scipy\n",
        "import pandas as pd\n",
        "import torch\n",
        "import jax\n",
        "import jax.numpy as jnp\n",
        "import jax.numpy as jnp\n",
        "from jax import grad, hessian"
      ],
      "id": "6f1a7781"
    },
    {
      "cell_type": "markdown",
      "metadata": {},
      "source": [
        "Mess around with your setup until the following work"
      ],
      "id": "75e744bf-6a2c-494d-babd-a3f3a65c2f1b"
    },
    {
      "cell_type": "code",
      "execution_count": 2,
      "metadata": {},
      "outputs": [
        {
          "output_type": "stream",
          "name": "stdout",
          "text": [
            "tensor([[0., 0., 0.],\n",
            "        [0., 0., 0.]])"
          ]
        }
      ],
      "source": [
        "x = torch.zeros((2, 3))\n",
        "print(x)"
      ],
      "id": "90be306e"
    },
    {
      "cell_type": "code",
      "execution_count": 3,
      "metadata": {},
      "outputs": [
        {
          "output_type": "stream",
          "name": "stdout",
          "text": [
            "[[0. 0. 0.]\n",
            " [0. 0. 0.]]"
          ]
        }
      ],
      "source": [
        "x = jnp.zeros((2, 3))\n",
        "print(x)"
      ],
      "id": "6b5f974f"
    },
    {
      "cell_type": "markdown",
      "metadata": {},
      "source": [
        "No need to get GPUs/etc. working. If you have issues on windows, see\n",
        "[JAX\n",
        "Installation](https://jax.readthedocs.io/en/latest/installation.html#cpu)\n",
        "and [Pytorch Installation](https://pytorch.org/get-started/locally/)\n",
        "instructions\n",
        "\n",
        "## Q2\n",
        "\n",
        "This section just summarizes some reading on how JAX works, and asks you\n",
        "to come up with some demonstrations of its functionality. Read: - [JAX\n",
        "Quickstart](https://jax.readthedocs.io/en/latest/notebooks/quickstart.html) -\n",
        "[JAX\n",
        "Basics](https://jax.readthedocs.io/en/latest/jax-101/01-jax-basics.html) -\n",
        "[JAX\n",
        "Jit](https://jax.readthedocs.io/en/latest/jax-101/02-jitting.html) -\n",
        "[JAX\n",
        "Vectorization](https://jax.readthedocs.io/en/latest/jax-101/03-vectorization.html) -\n",
        "[JAX\n",
        "AD](https://jax.readthedocs.io/en/latest/jax-101/04-advanced-autodiff.html)\n",
        "\n",
        "## Q2.1\n",
        "\n",
        "Write a function which takes a normally distributed random number and\n",
        "calculates the standard deviation manually (i.e. calculate the mean,\n",
        "second moment, etc. manually and then form the standard deviation\n",
        "yourself in the function)\n",
        "\n",
        "Compile the function using the `jit` and the decorator `@jit`"
      ],
      "id": "f907d050-da42-40b0-85bc-501a1e401273"
    },
    {
      "cell_type": "code",
      "execution_count": 4,
      "metadata": {},
      "outputs": [],
      "source": [
        "# MODIFY HERE"
      ],
      "id": "cdee5025"
    },
    {
      "cell_type": "markdown",
      "metadata": {},
      "source": [
        "## Q2.2\n",
        "\n",
        "Now take that function and generate a matrix of random normals and use\n",
        "`vmap` to calculate the standard deviation across rows, then across\n",
        "columns. Compare to `jnp.std(x, axis=0)` and `jnp.std(x, axis=1)`"
      ],
      "id": "f3f6fbd7-0dbb-4467-af66-25282106bfdb"
    },
    {
      "cell_type": "code",
      "execution_count": 5,
      "metadata": {},
      "outputs": [],
      "source": [
        "# MODIFY HERE"
      ],
      "id": "d02fca52"
    },
    {
      "cell_type": "markdown",
      "metadata": {},
      "source": [
        "## Q2.3\n",
        "\n",
        "Take the following code, and find the hessian of `f` at `x`"
      ],
      "id": "12c5574c-1a42-4300-9a1a-ae4023c51f04"
    },
    {
      "cell_type": "code",
      "execution_count": 6,
      "metadata": {},
      "outputs": [],
      "source": [
        "# Define a multivariate function\n",
        "def f(x):\n",
        "    return jnp.sum(x ** 2)\n",
        "\n",
        "# Define a point at which to evaluate the function\n",
        "x = jnp.array([1.0, 2.0, 3.0])"
      ],
      "id": "0df658c5"
    },
    {
      "cell_type": "markdown",
      "metadata": {},
      "source": [
        "# Q3\n",
        "\n",
        "In this section you will explore solving linear systems with scipy and\n",
        "JAX.\n",
        "\n",
        "It will use the continuous time markov chain example in the [iterative\n",
        "notes](https://ubcecon.github.io/ECON622/lectures/lectures/iterative_methods.html#/example-from-previous-lectures)\n",
        "with an intensity $a > 0$ you gain a count, and $b > 0$ you lose a\n",
        "count.\n",
        "\n",
        "## Q3.1\n",
        "\n",
        "The example for a continuous time Markov Chain with a counting process\n",
        "in [Factorization\n",
        "Notes](https://ubcecon.github.io/ECON622/lectures/lectures/factorizations_direct_methods.html#/finding-the-stationary-distribution)\n",
        "was written in Julia.\n",
        "\n",
        "Figure out how to do this with Python scipy using direct methods. You\n",
        "can explore scipy in doing so. See [ECON526\n",
        "Notes](https://ubcecon.github.io/ECON526/lectures/lectures/linear_algebra_foundations.html#/title-slide)\n",
        "for some help if you are having trouble navigating scipy.\n",
        "\n",
        "Your code should: 1. Find the stationary distribution 2. Solve the\n",
        "bellman equation with those parameters in the linked notes."
      ],
      "id": "81ff8f17-251a-42ed-b3f1-fb7693111c25"
    },
    {
      "cell_type": "code",
      "execution_count": 7,
      "metadata": {},
      "outputs": [],
      "source": [
        "# MODIFY HERE"
      ],
      "id": "1812bb06"
    },
    {
      "cell_type": "markdown",
      "metadata": {},
      "source": [
        "Don’t worry about the tridiagonal structure, which is harder to work\n",
        "with in python packages.\n",
        "\n",
        "## Q3.2\n",
        "\n",
        "Now do the same thing but instead of using Python scipy, make sure to\n",
        "use the JAX versions of those packages (e.g. `jax.scipy.linalg.solve`\n",
        "and `jax.scipy.linalg.eig`)"
      ],
      "id": "4dad2533-d50f-48de-8757-b45d1150eb0c"
    },
    {
      "cell_type": "code",
      "execution_count": 8,
      "metadata": {},
      "outputs": [],
      "source": [
        "# MODIFY HERE"
      ],
      "id": "6a399409"
    },
    {
      "cell_type": "markdown",
      "metadata": {},
      "source": [
        "## Q3.3\n",
        "\n",
        "Solve the bellman equation from our example using\n",
        "[lineax](https://docs.kidger.site/lineax/api/linear_solve/) and JAX. For\n",
        "this we want to use iterative methods along the lines of our [Iterative\n",
        "Notes](https://ubcecon.github.io/ECON622/lectures/lectures/iterative_methods.html#/title-slide)"
      ],
      "id": "76d63a42-520a-4986-84d3-03c72ee9132a"
    },
    {
      "cell_type": "code",
      "execution_count": 9,
      "metadata": {},
      "outputs": [],
      "source": [
        "import lineax"
      ],
      "id": "96c7adc9"
    },
    {
      "cell_type": "markdown",
      "metadata": {},
      "source": [
        "## Q3.4\n",
        "\n",
        "Your JAX code for the bellman equation should be providing a solution\n",
        "for all states. Create a function to find what the value is in the first\n",
        "state (i.e, starting at count of 1),\n",
        "\n",
        "-   To do this, you will want to wrap code that creates the intensity\n",
        "    matrix given the parameters\n",
        "-   Then wrap the solve using that intensity matrix and the discounting\n",
        "-   Then finally returns the `v[0]` from the resulting value function"
      ],
      "id": "48656002-efdf-4bb7-b07f-a43d323e4ef9"
    },
    {
      "cell_type": "code",
      "execution_count": 10,
      "metadata": {},
      "outputs": [],
      "source": [
        "# MODIFY HERE"
      ],
      "id": "488b9831"
    },
    {
      "cell_type": "markdown",
      "metadata": {},
      "source": [
        "Then, use JAX and `grad` to differentiate the value function with\n",
        "respect to the $a$ parameter (and $b, \\rho$ and $r$ if you wish)"
      ],
      "id": "c0f8a48e-61fd-4404-a0e2-14c2ee444dd9"
    },
    {
      "cell_type": "code",
      "execution_count": 11,
      "metadata": {},
      "outputs": [],
      "source": [
        "# MODIFY HERE"
      ],
      "id": "a4f2de52"
    },
    {
      "cell_type": "markdown",
      "metadata": {},
      "source": [
        "## Q3.5 (BONUS)\n",
        "\n",
        "Now try to do the same thing with mean of the stationary distribution 1.\n",
        "write a function which takes in the `a, b` and `r` parameters and\n",
        "creates the markov chain 2. Within that function, you will probably want\n",
        "to focus on functions which only give you a particular\n",
        "eigenvalue/eigenvector - as selecting a particular eigenvector isn’t\n",
        "differentiable 3. Then normalize the eigenvector to get the stationary\n",
        "distribution and return its expectation using `r`"
      ],
      "id": "74dd699a-8a85-4de9-8500-4cab2bc0556a"
    },
    {
      "cell_type": "code",
      "execution_count": 12,
      "metadata": {},
      "outputs": [],
      "source": [
        "# MODIFY HERE"
      ],
      "id": "c20c2c3a"
    },
    {
      "cell_type": "markdown",
      "metadata": {},
      "source": [
        "Finally, using that function, calculate the gradient of the expectation\n",
        "with respect to the `a` parameter"
      ],
      "id": "6b1150ef-afcc-42cf-86a1-e3030b6bd02e"
    },
    {
      "cell_type": "code",
      "execution_count": 13,
      "metadata": {},
      "outputs": [],
      "source": [
        "# MODIFY HERE"
      ],
      "id": "e53e8653"
    },
    {
      "cell_type": "markdown",
      "metadata": {},
      "source": [
        "## Q3.6 (BONUS)\n",
        "\n",
        "Try to figure out how to solve for the stationary distribution and\n",
        "bellman equation using lazy matrix-free methods in python. It isn’t\n",
        "obvious the packages to use for this but my guess is that your best bet\n",
        "is to use the new package [CoLA](https://github.com/wilson-labs/cola)\n",
        "\n",
        "Get it working with iterative methods and the matrix-free operators and\n",
        "submit bug reports on that repo if it is not."
      ],
      "id": "5dc18f6a-8a8f-4076-ad74-968ca546ccac"
    },
    {
      "cell_type": "code",
      "execution_count": 14,
      "metadata": {},
      "outputs": [],
      "source": [
        "import cola\n",
        "# MODIFY HERE"
      ],
      "id": "c0f31d6f"
    }
  ],
  "nbformat": 4,
  "nbformat_minor": 5,
  "metadata": {
    "kernelspec": {
      "name": "python3",
      "display_name": "Python 3 (ipykernel)",
      "language": "python"
    }
  }
}