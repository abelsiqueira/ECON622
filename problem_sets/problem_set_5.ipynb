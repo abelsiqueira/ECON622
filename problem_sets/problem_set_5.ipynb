{
  "cells": [
    {
      "cell_type": "markdown",
      "metadata": {},
      "source": [
        "# ECON622: Assignment 5\n",
        "\n",
        "# Packages\n",
        "\n",
        "Add whatever packages you wish here"
      ],
      "id": "23fbf469-899d-4c12-aab9-e7b6472da6d7"
    },
    {
      "cell_type": "code",
      "execution_count": 1,
      "metadata": {},
      "outputs": [],
      "source": [
        "import numpy as np\n",
        "import matplotlib.pyplot as plt\n",
        "import scipy\n",
        "import pandas as pd\n",
        "import torch\n",
        "import jax\n",
        "import jax.numpy as jnp\n",
        "from jax import grad, hessian\n",
        "import torch\n",
        "import torch.nn as nn\n",
        "import torch.optim as optim\n",
        "import equinox as eqx"
      ],
      "id": "4066315b"
    },
    {
      "cell_type": "markdown",
      "metadata": {},
      "source": [
        "# Q1\n",
        "\n",
        "The trace of the Hessian matrix is useful in a variety of applications\n",
        "in statistics, econometrics, and stochastic processes. It can also be\n",
        "used to regularize a loss function.\n",
        "\n",
        "For of a function $f:\\mathbb{R}^N\\to\\mathbb{R}$, denote the Hessian as\n",
        "$\\nabla^2 f(x) \\in \\mathbb{R}^{N\\times N}$.\n",
        "\n",
        "It can be shows that for some mean zero, unit variance random vectors\n",
        "$v\\in\\mathbb{R}^N$ with $\\mathbb{E}(v) = 0$ and\n",
        "$\\mathbb{E}(v v^{\\top}) = I$ the trace of the Hessian fulfills\n",
        "\n",
        "$$\n",
        "\\mathrm{Tr}(\\nabla^2 f(x)) = \\mathbb{E}\\left[v^{\\top} \\nabla^2 f(x)\\, v\\right]\n",
        "$$\n",
        "\n",
        "Which leads to a random algorithm by sampling $M$ vectors\n",
        "$v_1,\\ldots,v_M$ and using the monte-carlo approximation of the\n",
        "expectation, called the [Hutchinson Trace\n",
        "Estimator](https://www.tandfonline.com/doi/abs/10.1080/03610918908812806)\n",
        "\n",
        "$$\n",
        "\\mathrm{Tr}(\\nabla^2 f(x)) \\approx \\frac{1}{M} \\sum_{m=1}^M v_m^{\\top} \\nabla^2 f(x)\\, v_m\n",
        "$$\n",
        "\n",
        "# Q1.1\n",
        "\n",
        "Now, lets take the function $f(x) = \\frac{1}{2}x^{\\top} P x$, which is a\n",
        "quadratic form and where we know that $\\nabla^2 f(x) = P$.\n",
        "\n",
        "The following code finds the trace of the hessian, which is equivalently\n",
        "just the sum of the diagonal of $P$ in this simple function."
      ],
      "id": "21a82ae7-97d4-49d8-9139-f1fb99d5a140"
    },
    {
      "cell_type": "code",
      "execution_count": 2,
      "metadata": {},
      "outputs": [
        {
          "output_type": "stream",
          "name": "stdout",
          "text": [
            "10223.29\n",
            "10223.289"
          ]
        }
      ],
      "source": [
        "key = jax.random.PRNGKey(0)\n",
        "\n",
        "N = 100  # Dimension of the matrix\n",
        "A = jax.random.normal(key, (N, N))\n",
        "# Create a positive-definite matrix P by forming A^T * A\n",
        "P = jnp.dot(A.T, A)\n",
        "def f(x):\n",
        "    return 0.5 * jnp.dot(x.T, jnp.dot(P, x))\n",
        "x = jax.random.normal(key, (N,))\n",
        "print(jnp.trace(jax.hessian(f)(x)))\n",
        "print(jnp.diag(P).sum())"
      ],
      "id": "f8dfcc05"
    },
    {
      "cell_type": "markdown",
      "metadata": {},
      "source": [
        "Now, instead of calculating the whole Hessian, use a [Hessian-vector\n",
        "product in\n",
        "JAX](https://jax.readthedocs.io/en/latest/notebooks/autodiff_cookbook.html#hessian-vector-products-using-both-forward-and-reverse-mode)\n",
        "and the approximation above with $M$ draws of random vectors to\n",
        "calculate an approximation of the trace of the Hessian. Increase the\n",
        "numbers of $M$ to see what the variance of the estimator is, comparing\n",
        "to the above closed-form solution for this quadratic.\n",
        "\n",
        "Hint: you will want to do Forward-over-Reverse mode differentiation for\n",
        "this (i.e. the `vjp` gives a pullback function for first derivative,\n",
        "then differentate that new function. Given that it would then be\n",
        "$\\mathbb{R}^N \\to \\mathbb{R}^N$, it makes sense to use forward mode with\n",
        "a `jvp`)"
      ],
      "id": "5b7886cc-3fc8-41c3-a09e-08ba1f7c9889"
    },
    {
      "cell_type": "code",
      "execution_count": 3,
      "metadata": {},
      "outputs": [],
      "source": [
        "# ADD CODE HERE"
      ],
      "id": "f228ef29"
    },
    {
      "cell_type": "markdown",
      "metadata": {},
      "source": [
        "## Q1.2 BONUS\n",
        "\n",
        "If you wish, you can play around with radically increase the size of the\n",
        "`N` and change the function itself. One suggestion is to move towards a\n",
        "sparse or even matrix-free $f(x)$ calculation so that the $P$ doesn’t\n",
        "itself need to materialize."
      ],
      "id": "2d334980-6ddc-4515-ac1b-5d3f4c6332a0"
    },
    {
      "cell_type": "code",
      "execution_count": 4,
      "metadata": {},
      "outputs": [],
      "source": [
        "# ADD CODE HERE"
      ],
      "id": "533fc10a"
    },
    {
      "cell_type": "markdown",
      "metadata": {},
      "source": [
        "# Q2\n",
        "\n",
        "This section gives some hints on how to setup a differentiable\n",
        "likelihood function with implicit functions\n",
        "\n",
        "## Q2.1\n",
        "\n",
        "The following code uses scipy to find the equilibrium price and demand\n",
        "for some simple supply and demand functions with embedded parameters"
      ],
      "id": "e85f85d1-31ec-482a-9fe4-05ed94ef23c7"
    },
    {
      "cell_type": "code",
      "execution_count": 5,
      "metadata": {},
      "outputs": [
        {
          "output_type": "stream",
          "name": "stdout",
          "text": [
            "Equilibrium Price: 17.65\n",
            "Equilibrium Quantity: 91.60"
          ]
        }
      ],
      "source": [
        "from scipy.optimize import root_scalar\n",
        "\n",
        "# Define the demand function with power c\n",
        "def demand(P, c_d):\n",
        "    return 100 - 2 * P**c_d\n",
        "\n",
        "# Define the supply function with power f\n",
        "def supply(P, c_s):\n",
        "    return 5 * 3**(c_s * P)\n",
        "\n",
        "# Define the function to find the root of, including c and f\n",
        "def equilibrium(P, c_d, c_s):\n",
        "    return demand(P, c_d) - supply(P, c_s)\n",
        "\n",
        "# Use root_scalar to find the equilibrium price\n",
        "def find_equilibrium(c_d, c_s):\n",
        "    result = root_scalar(equilibrium, args=(c_d, c_s), bracket=[0, 100], method='brentq')\n",
        "    return result.root, demand(result.root, c_d)\n",
        "\n",
        "# Example usage\n",
        "c_d = 0.5\n",
        "c_s = 0.15\n",
        "equilibrium_price, equilibrium_quantity = find_equilibrium(c_d, c_s)\n",
        "print(f\"Equilibrium Price: {equilibrium_price:.2f}\")\n",
        "print(f\"Equilibrium Quantity: {equilibrium_quantity:.2f}\")"
      ],
      "id": "baf1c54d"
    },
    {
      "cell_type": "markdown",
      "metadata": {},
      "source": [
        "First, convert this to use JAX and one of the JAX packages for finding\n",
        "the root (e.g., in [JAXopt](https://jaxopt.github.io/stable/)). Make\n",
        "sure you can jit the whole `find_equilibrium` function"
      ],
      "id": "15643f8c-ec0d-4779-8ec4-0e36049f6d98"
    },
    {
      "cell_type": "code",
      "execution_count": 6,
      "metadata": {},
      "outputs": [],
      "source": [
        "# ADD CODE HERE"
      ],
      "id": "7e953479"
    },
    {
      "cell_type": "markdown",
      "metadata": {},
      "source": [
        "## Q2.2\n",
        "\n",
        "Now, assume that you get a noisy signal on the price that fulfills that\n",
        "demand system.\n",
        "\n",
        "$$\n",
        "\\hat{p} \\sim \\mathcal{N}(p, \\sigma^2)\n",
        "$$\n",
        "\n",
        "In that case, the log likelihood for the Gaussian is\n",
        "\n",
        "$$\n",
        "\\log \\mathcal{L}(\\hat{p}\\,|\\,c_d, c_s, p) = -\\frac{1}{2} \\log(2\\pi\\sigma^2) - \\frac{1}{2\\sigma^2} (\\hat{p} - p)^2\n",
        "$$\n",
        "\n",
        "Or, if $p$ was implicitly defined by the equilibrium conditions as some\n",
        "$p(c_d, c_s)$ from above,\n",
        "\n",
        "$$\n",
        "\\log \\mathcal{L}(\\hat{p}\\,|\\,c_d, c_s) = -\\frac{1}{2} \\log(2\\pi\\sigma^2) - \\frac{1}{2\\sigma^2} (\\hat{p} - p(c_d, c_s))^2\n",
        "$$\n",
        "\n",
        "Then for some $\\sigma = 0.01$ we can calculate this log likelihood the\n",
        "above as"
      ],
      "id": "36033a98-1701-4b03-b88b-45041bf477f2"
    },
    {
      "cell_type": "code",
      "execution_count": 7,
      "metadata": {},
      "outputs": [
        {
          "output_type": "display_data",
          "metadata": {},
          "data": {
            "text/plain": [
              "3.46939195899786"
            ]
          }
        }
      ],
      "source": [
        "def log_likelihood(p_hat, c_d, c_s, sigma):\n",
        "    p, x = find_equilibrium(c_d, c_s)\n",
        "    return -0.5 * np.log(2 * np.pi * sigma**2) - 0.5 * (p_hat - p)**2 / sigma**2\n",
        "\n",
        "c_d = 0.5\n",
        "c_s = 0.15\n",
        "sigma = 0.01\n",
        "p, x = find_equilibrium(c_d, c_s) # get the true value for simulation\n",
        "p_hat = p + np.random.normal(0, sigma) # simulate a noisy signal\n",
        "log_likelihood(p_hat, c_d, c_s, sigma)"
      ],
      "id": "348137fe"
    },
    {
      "cell_type": "markdown",
      "metadata": {},
      "source": [
        "Now, take this code for the likelihood and convert it to JAX and jit.\n",
        "Use your function from Q2.1"
      ],
      "id": "9a2f8700-9670-4dc4-8d61-4168a60ead7c"
    },
    {
      "cell_type": "code",
      "execution_count": 8,
      "metadata": {},
      "outputs": [],
      "source": [
        "# ADD CODE HERE"
      ],
      "id": "71335756"
    },
    {
      "cell_type": "markdown",
      "metadata": {},
      "source": [
        "## Q2.3\n",
        "\n",
        "Use the function from the previous part and calculate the gradient with\n",
        "respect to `c_d` and `c_s` using `grad` and JAX. You will probably want\n",
        "to put the `c_d` and `c_s` into a vector as the first argument, or play\n",
        "around with passing in a dictionary and using PyTrees"
      ],
      "id": "e47b24a3-9271-455a-baa5-b0a46bb02ca1"
    },
    {
      "cell_type": "code",
      "execution_count": 9,
      "metadata": {},
      "outputs": [],
      "source": [
        "# ADD CODE HERE"
      ],
      "id": "fcfddd35"
    },
    {
      "cell_type": "markdown",
      "metadata": {},
      "source": [
        "## Q2.4 BONUS\n",
        "\n",
        "You could try to run maximum likelihood estimation by using a gradient\n",
        "based optimizer in JAX (e.g., ) Typically you wil want to use\n",
        "[JAXopt](https://jaxopt.github.io/stable/) for this instead of the more\n",
        "ML-centric optimizers.\n",
        "\n",
        "If you attempt this: - Consider starting your optimization at the\n",
        "“pseudo-true” values with the `c_s, c_d, sigma` you used to simulate the\n",
        "data and even start with `p_hat = p`. - You may find that it is a little\n",
        "too noisy with only the one observation. If so, you could adapt your\n",
        "likelihood to take a vector of $\\hat{p}$ instead. The likelihood of IID\n",
        "gaussians is a simple variation on the above."
      ],
      "id": "32cb33b6-c1c9-4207-b68e-664a74bf2de1"
    },
    {
      "cell_type": "code",
      "execution_count": 10,
      "metadata": {},
      "outputs": [],
      "source": [
        "# ADD CODE HERE"
      ],
      "id": "823b0eb0"
    },
    {
      "cell_type": "markdown",
      "metadata": {},
      "source": [
        "## Q3\n",
        "\n",
        "For the LLS examples with Pytorch we added in\n",
        "[linear_regression_pytorch_logging.py](logging%20https://github.com/ubcecon/ECON622/blob/master/lectures/lectures/examples/linear_regression_pytorch_logging.py)\n",
        "and a CLI interface - which came for free with pytorch lightning.\n",
        "\n",
        "In this question you will add in some of those features to the\n",
        "[linear_regression_jax_equinox.py](https://github.com/ubcecon/ECON622/blob/master/lectures/lectures/examples/linear_regression_jax_equinox.py)\n",
        "example.\n",
        "\n",
        "## Q3.1\n",
        "\n",
        "Take the `linear_regression_jax_equinox.py` copied below for your\n",
        "convenience and:\n",
        "\n",
        "1.  Setup the W&B properly\n",
        "2.  Add in logging of the `train_loss` at every step of the optimizer\n",
        "3.  Remove the other epoch printing, or try to log an epoch specific\n",
        "    `||theta - theta_hat||` if you wish\n",
        "4.  Log the end `||theta - theta_hat||` at the end of the training"
      ],
      "id": "2937c7da-9149-4510-a657-aa813ac3b835"
    },
    {
      "cell_type": "code",
      "execution_count": 11,
      "metadata": {},
      "outputs": [
        {
          "output_type": "stream",
          "name": "stdout",
          "text": [
            "theta_0 = [ 1.7535115  -0.07298409], theta = [0.1378821  0.79073715]\n",
            "Epoch 0,||theta - theta_hat|| = 0.4085429608821869\n",
            "Epoch 100,||theta - theta_hat|| = 0.0743650421500206\n",
            "Epoch 200,||theta - theta_hat|| = 0.01363404467701912\n",
            "||theta - theta_hat|| = 0.002546713687479496"
          ]
        }
      ],
      "source": [
        "# MODIFY CODE HERE\n",
        "import jax\n",
        "import jax.numpy as jnp\n",
        "from jax import grad, jit, value_and_grad, vmap\n",
        "from jax import random\n",
        "import optax\n",
        "import equinox as eqx\n",
        "\n",
        "N = 500  # samples\n",
        "M = 2\n",
        "sigma = 0.001\n",
        "key = random.PRNGKey(42)\n",
        "# Pattern: split before using key, replace name \"key\"\n",
        "key, *subkey = random.split(key, num=4)\n",
        "theta = random.normal(subkey[0], (M,))\n",
        "X = random.normal(subkey[1], (N, M))\n",
        "Y = X @ theta + sigma * random.normal(subkey[2], (N,))  # Adding noise\n",
        "\n",
        "# Creates an iterable \n",
        "def data_loader(key, X, Y, batch_size):\n",
        "    num_samples = X.shape[0]\n",
        "    assert num_samples == Y.shape[0]\n",
        "    indices = jnp.arange(num_samples)\n",
        "    indices = random.permutation(key, indices)\n",
        "    # Loop over batches and yield\n",
        "    for i in range(0, num_samples, batch_size):\n",
        "        batch_indices = indices[i:i + batch_size]\n",
        "        yield X[batch_indices], Y[batch_indices]\n",
        "\n",
        "\n",
        "# Need to randomize our own theta_0 parameters\n",
        "key, subkey = random.split(key)\n",
        "theta_0 = random.normal(subkey, (M,))\n",
        "print(f\"theta_0 = {theta_0}, theta = {theta}\")\n",
        "\n",
        "# Probably a way to use `vmap` or `eqx.filter_vmap` here as well\n",
        "\n",
        "def residual(model, x, y):\n",
        "    y_hat = model(x)\n",
        "    return (y_hat - y) ** 2\n",
        "\n",
        "def residuals(model, X, Y):\n",
        "    batched_residuals = vmap(residual, in_axes=(None, 0, 0))\n",
        "    return jnp.mean(batched_residuals(model, X, Y))\n",
        "\n",
        "# Alternatively could do something like\n",
        "def residuals_2(model, X, Y):\n",
        "    Y_hat = vmap(model)(X).squeeze()\n",
        "    return jax.numpy.mean((Y - Y_hat) ** 2)\n",
        "\n",
        "# Hypothesis Class: will start with a linear function, which is randomly initialized\n",
        "# model is a variable of all parametesr, and supports model(X) calls\n",
        "key, subkey = random.split(key)\n",
        "model = eqx.nn.Linear(M, 1, use_bias = False, key = subkey)\n",
        "\n",
        "# reinitialize\n",
        "lr = 0.001\n",
        "optimizer = optax.sgd(lr)\n",
        "# Needs to remove the non-differentiable parts of the \"model\" object\n",
        "opt_state = optimizer.init(eqx.filter(model,eqx.is_inexact_array))\n",
        "\n",
        "@eqx.filter_jit\n",
        "def make_step(model, opt_state, X, Y):     \n",
        "  loss_value, grads = eqx.filter_value_and_grad(residuals)(model, X, Y)\n",
        "  updates, opt_state = optimizer.update(grads, opt_state, model)\n",
        "  model = eqx.apply_updates(model, updates)\n",
        "  return model, opt_state, loss_value\n",
        "\n",
        "num_epochs = 300\n",
        "batch_size = 64\n",
        "key, subkey = random.split(key) # will keep same key for shuffling each epoch\n",
        "for epoch in range(num_epochs):\n",
        "    key, subkey = random.split(key) # changing key for shuffling each epoch\n",
        "    train_loader = data_loader(subkey, X, Y, batch_size)\n",
        "    for X_batch, Y_batch in train_loader:\n",
        "        model, opt_state, train_loss = make_step(model, opt_state, X_batch, Y_batch)\n",
        "        # TODO ADD IN LOGGING OF THE train_loss\n",
        "    \n",
        "    # TODO CAN REMOVE THIS ENTIRELY AFTER LOGGING IS WORKING\n",
        "    if epoch % 100 == 0:\n",
        "        print(f\"Epoch {epoch},||theta - theta_hat|| = {jnp.linalg.norm(theta - model.weight)}\")\n",
        "\n",
        "# TODO: LOG THE FINAL VALUE HERE\n",
        "print(f\"||theta - theta_hat|| = {jnp.linalg.norm(theta - model.weight)}\")"
      ],
      "id": "0d299ad2"
    },
    {
      "cell_type": "markdown",
      "metadata": {},
      "source": [
        "## Q3.2\n",
        "\n",
        "Now, take the above code and copy it into a file named\n",
        "`linear_regression_jax_cli.py`.\n",
        "\n",
        "Feel free to use use the builtin\n",
        "[Argparse](https://docs.python.org/3/library/argparse.html) or any other\n",
        "[CLI\n",
        "framework](https://github.com/shadawck/awesome-cli-frameworks#python)\n",
        "\n",
        "Regardless of how you do it, here is a suggestion of some steps\n",
        "\n",
        "1.  Create a function called\n",
        "    `main_fn(lr: float = 0.001, N: int = 100, ...)` with whatever\n",
        "    parameters you want to change as arguments. The type annotations are\n",
        "    optional but useful for some CLI packages\n",
        "2.  Move all of your code inside of that function, and get rid of the\n",
        "    initialization of those values\n",
        "3.  You can test it out by adding the following code and then running\n",
        "    the file\n",
        "\n",
        "<!-- -->\n",
        "\n",
        "    if __name__ == '__main__':\n",
        "      main_fn()\n",
        "\n",
        "To make this CLI-ready, here are two suggested packages:\n",
        "\n",
        "### jsonargparse\n",
        "\n",
        "A package with many features, most of which you wouldn’t use directly,\n",
        "is [jsonargparse](https://jsonargparse.readthedocs.io/). Besides the\n",
        "more advanced features like [configuration\n",
        "files](https://jsonargparse.readthedocs.io/en/v4.26.2/#writing-configuration-files)\n",
        "and the instantiation of classes/etc. as arguments, the main difference\n",
        "will be that it checks the types of arguments and converts them for you\n",
        "using python typehints. In that case, you can adapt the following code\n",
        "for your linear_regression_jax_cli.py\n",
        "\n",
        "    import jsonargparse\n",
        "    def main_fn(lr: float = 0.001, N: int = 100):\n",
        "        print(f\"lr = {lr}, N = {N}\")\n",
        "\n",
        "    if __name__ == \"__main__\":\n",
        "         jsonargparse.CLI(main_fn)\n",
        "\n",
        "If you get this working you may want to consider trying out the\n",
        "configuration file feature, which is a nice way to save your\n",
        "hyperparameters for later use and reproducibility\n",
        "\n",
        "### Python Fire\n",
        "\n",
        "[python-fire](https://github.com/google/python-fire) which is already in\n",
        "your `requirements.txt` See the\n",
        "[documentation](https://google.github.io/python-fire/guide/) for more.\n",
        "This is a very lightweight package compared to some of the alternatives.\n",
        "\n",
        "You can adapt the following code\n",
        "\n",
        "    import fire\n",
        "    def main_fn(lr: float = 0.001, N: int = 100):\n",
        "        print(f\"lr = {lr}, N = {N}\")\n",
        "\n",
        "    if __name__ == '__main__':\n",
        "      fire.Fire(main_fn)\n",
        "\n",
        "In this case, however, the `float` and `int` do not seem to be enforced\n",
        "by Python Fire, so you may need to cast them directly in your code if\n",
        "things aren’t working correctly.\n",
        "\n",
        "### Using your CLI\n",
        "\n",
        "In either case, at that point you should be able to call this with\n",
        "`python linear_regression_jax_cli.py` and have it use all of the default\n",
        "values, `python linear_regression_jax_cli.py --N=200` to change them,\n",
        "etc.\n",
        "\n",
        "Either submit the file as part of the assignment or just paste the code\n",
        "into the notebook\n",
        "\n",
        "## Q3.3 BONUS\n",
        "\n",
        "Given the CLI you can now run a hyperparameter search. For this bonus\n",
        "problem, do a hyperparameter search over the `--lr` argument by\n",
        "following the [W&B documentation](https://docs.wandb.ai/guides/sweeps).\n",
        "\n",
        "To get you started, your sweep yaml might look something like this\n",
        "\n",
        "``` {yaml}\n",
        "program: linear_regression_jax_cli.py\n",
        "name: JAX Example\n",
        "project: linear_regression_pytorch\n",
        "description: JAX Sweep\n",
        "method: random\n",
        "parameters:\n",
        "  lr:\n",
        "    min: 0.0001\n",
        "    max: 0.01\n",
        "```\n",
        "\n",
        "Here I changed the `method` from bayes to\n",
        "[`random`](https://docs.wandb.ai/guides/sweeps/define-sweep-configuration#method)\n",
        "because otherwise we would need to provide a `metric` to optimize over.\n",
        "Feel free to adapt any of these settings.\n",
        "\n",
        "If you successfully run a sweep then paste in your own yaml file here,\n",
        "and a screenshot of the W&B dashboard showing something about the sweep\n",
        "results."
      ],
      "id": "742901f7-0742-4e81-b8c0-a5a9177c5555"
    }
  ],
  "nbformat": 4,
  "nbformat_minor": 5,
  "metadata": {
    "kernelspec": {
      "name": "python3",
      "display_name": "Python 3 (ipykernel)",
      "language": "python"
    }
  }
}