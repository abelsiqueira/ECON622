{
  "cells": [
    {
      "cell_type": "markdown",
      "metadata": {},
      "source": [
        "# ECON622: Assignment 6\n",
        "\n",
        "# Packages\n",
        "\n",
        "Add whatever packages you want!"
      ],
      "id": "67f24d8c-acce-45ad-993c-b47247738b3e"
    },
    {
      "cell_type": "code",
      "execution_count": 1,
      "metadata": {},
      "outputs": [],
      "source": [
        "import numpy as np\n",
        "import matplotlib.pyplot as plt\n",
        "import scipy\n",
        "import pandas as pd\n",
        "import torch\n",
        "import jax\n",
        "import jax.numpy as jnp\n",
        "from jax import grad, hessian\n",
        "import torch\n",
        "import torch.nn as nn\n",
        "import torch.optim as optim\n",
        "import equinox as eqx"
      ],
      "id": "d1969ed7"
    },
    {
      "cell_type": "markdown",
      "metadata": {},
      "source": [
        "# Question 1\n",
        "\n",
        "In the repository you have code with does a linear regression with\n",
        "Pytorch `linear_regression_pytorch_lightning.py`.\n",
        "\n",
        "## Question 1.1\n",
        "\n",
        "Make a new file that does the same thing, but replace the\n",
        "`nn.Linear(M, 1, bias=False)` with code that gives a neural network with\n",
        "multiple layers. Maybe try"
      ],
      "id": "a0117e3a-b404-499d-ad61-9b6bf4f732b1"
    },
    {
      "cell_type": "code",
      "execution_count": 2,
      "metadata": {},
      "outputs": [
        {
          "output_type": "display_data",
          "metadata": {},
          "data": {
            "text/plain": [
              "Sequential(\n",
              "  (0): Linear(in_features=2, out_features=8, bias=True)\n",
              "  (1): ReLU()\n",
              "  (2): Linear(in_features=8, out_features=1, bias=False)\n",
              ")"
            ]
          }
        }
      ],
      "source": [
        "M = 2 # loaded automatically in the code\n",
        "num_width = 8 # etc.  You can hardcode or add to the template/yaml code\n",
        "nn.Sequential(\n",
        "    nn.Linear(M, num_width),\n",
        "    nn.ReLU(),\n",
        "    nn.Linear(num_width, 1, bias = False)\n",
        ")"
      ],
      "id": "b72dd848"
    },
    {
      "cell_type": "markdown",
      "metadata": {},
      "source": [
        "This is a network with one “hidden” layer Try this for a very shallow\n",
        "network (e.g. `num_width = 8`) and see if it converges with Adam or SGD.\n",
        "It is OK if it does not! Don’t spend too much time with it.\n",
        "\n",
        "## Question 1.2\n",
        "\n",
        "Now replace this with a deeper and wider network by the same pattern.\n",
        "Maybe something like"
      ],
      "id": "8ee1a26d-df75-4e8d-a9b6-d4996ce1d03d"
    },
    {
      "cell_type": "code",
      "execution_count": 3,
      "metadata": {},
      "outputs": [
        {
          "output_type": "display_data",
          "metadata": {},
          "data": {
            "text/plain": [
              "Sequential(\n",
              "  (0): Linear(in_features=2, out_features=256, bias=True)\n",
              "  (1): ReLU()\n",
              "  (2): Linear(in_features=256, out_features=256, bias=True)\n",
              "  (3): ReLU()\n",
              "  (4): Linear(in_features=256, out_features=256, bias=True)\n",
              "  (5): ReLU()\n",
              "  (6): Linear(in_features=256, out_features=256, bias=True)\n",
              "  (7): ReLU()\n",
              "  (8): Linear(in_features=256, out_features=1, bias=False)\n",
              ")"
            ]
          }
        }
      ],
      "source": [
        "M = 2 # loaded automatically in the code\n",
        "num_width = 256 # etc.  You can hardcode or add to the template/yaml code\n",
        "nn.Sequential(\n",
        "    nn.Linear(M, num_width),\n",
        "    nn.ReLU(),\n",
        "    nn.Linear(num_width, num_width),\n",
        "    nn.ReLU(),\n",
        "    nn.Linear(num_width, num_width),\n",
        "    nn.ReLU(),\n",
        "    nn.Linear(num_width, num_width),\n",
        "    nn.ReLU(),\n",
        "    nn.Linear(num_width, 1, bias = False)\n",
        ")"
      ],
      "id": "a86ced30"
    },
    {
      "cell_type": "markdown",
      "metadata": {},
      "source": [
        "Try to optimize this now and see if it fits well with this deeper\n",
        "network. If this is too slow, change the `num_width` or remove a layer\n",
        "to see if it helps.\n",
        "\n",
        "## Question 1.3 (BONUS)\n",
        "\n",
        "The above is trying to fit a linear DGP. Instead, increase the dimenson\n",
        "`M` to something much larger, and modify the DGP to be something\n",
        "nonlinear. Try out the larger network to see if it fits it well.\n",
        "\n",
        "# Question 2\n",
        "\n",
        "Now we can try the same thing JAX and Equinox titled\n",
        "`linear_regression_jax_equinox.py`\n",
        "\n",
        "## Question 2.1\n",
        "\n",
        "Take the code and modify the network from the simple\n",
        "`model = eqx.nn.Linear(M, 1, use_bias = False, key = subkey)` to do a\n",
        "nonlinear function with more parametesr and layers, as in Question 1.2.\n",
        "\n",
        "Different ways to do this, but you can build it manually following the\n",
        "documentation, or use the\n",
        "[`equinox.nn.MLP`](https://docs.kidger.site/equinox/api/nn/mlp/) class\n",
        "which wraps the sort of iteration we did in question 1.2\n",
        "\n",
        "## Question 3\n",
        "\n",
        "The following code comes from\n",
        "[GPyTorch](https://docs.gpytorch.ai/en/stable/examples/01_Exact_GPs/Simple_GP_Regression.html)\n",
        "documentation."
      ],
      "id": "ccf3cdfe-ae65-48e3-a570-63c94937c9f9"
    },
    {
      "cell_type": "code",
      "execution_count": 4,
      "metadata": {},
      "outputs": [
        {
          "output_type": "stream",
          "name": "stdout",
          "text": [
            "Iter 1/50 - Loss: 0.939   lengthscale: 0.693   noise: 0.693\n",
            "Iter 2/50 - Loss: 0.908   lengthscale: 0.644   noise: 0.644\n",
            "Iter 3/50 - Loss: 0.874   lengthscale: 0.598   noise: 0.598\n",
            "Iter 4/50 - Loss: 0.837   lengthscale: 0.555   noise: 0.554\n",
            "Iter 5/50 - Loss: 0.795   lengthscale: 0.514   noise: 0.513\n",
            "Iter 6/50 - Loss: 0.748   lengthscale: 0.476   noise: 0.474\n",
            "Iter 7/50 - Loss: 0.697   lengthscale: 0.439   noise: 0.437\n",
            "Iter 8/50 - Loss: 0.645   lengthscale: 0.405   noise: 0.402\n",
            "Iter 9/50 - Loss: 0.595   lengthscale: 0.372   noise: 0.369\n",
            "Iter 10/50 - Loss: 0.550   lengthscale: 0.342   noise: 0.339\n",
            "Iter 11/50 - Loss: 0.509   lengthscale: 0.315   noise: 0.310\n",
            "Iter 12/50 - Loss: 0.472   lengthscale: 0.292   noise: 0.284\n",
            "Iter 13/50 - Loss: 0.437   lengthscale: 0.272   noise: 0.259\n",
            "Iter 14/50 - Loss: 0.403   lengthscale: 0.256   noise: 0.237\n",
            "Iter 15/50 - Loss: 0.369   lengthscale: 0.242   noise: 0.216\n",
            "Iter 16/50 - Loss: 0.336   lengthscale: 0.232   noise: 0.196\n",
            "Iter 17/50 - Loss: 0.304   lengthscale: 0.224   noise: 0.179\n",
            "Iter 18/50 - Loss: 0.272   lengthscale: 0.218   noise: 0.162\n",
            "Iter 19/50 - Loss: 0.240   lengthscale: 0.214   noise: 0.148\n",
            "Iter 20/50 - Loss: 0.209   lengthscale: 0.211   noise: 0.134\n",
            "Iter 21/50 - Loss: 0.179   lengthscale: 0.211   noise: 0.122\n",
            "Iter 22/50 - Loss: 0.150   lengthscale: 0.211   noise: 0.111\n",
            "Iter 23/50 - Loss: 0.122   lengthscale: 0.213   noise: 0.101\n",
            "Iter 24/50 - Loss: 0.095   lengthscale: 0.216   noise: 0.092\n",
            "Iter 25/50 - Loss: 0.071   lengthscale: 0.220   noise: 0.084\n",
            "Iter 26/50 - Loss: 0.049   lengthscale: 0.226   noise: 0.076\n",
            "Iter 27/50 - Loss: 0.029   lengthscale: 0.231   noise: 0.070\n",
            "Iter 28/50 - Loss: 0.012   lengthscale: 0.238   noise: 0.064\n",
            "Iter 29/50 - Loss: -0.002   lengthscale: 0.244   noise: 0.059\n",
            "Iter 30/50 - Loss: -0.013   lengthscale: 0.251   noise: 0.054\n",
            "Iter 31/50 - Loss: -0.021   lengthscale: 0.258   noise: 0.050\n",
            "Iter 32/50 - Loss: -0.026   lengthscale: 0.265   noise: 0.046\n",
            "Iter 33/50 - Loss: -0.028   lengthscale: 0.272   noise: 0.043\n",
            "Iter 34/50 - Loss: -0.027   lengthscale: 0.277   noise: 0.041\n",
            "Iter 35/50 - Loss: -0.025   lengthscale: 0.282   noise: 0.038\n",
            "Iter 36/50 - Loss: -0.021   lengthscale: 0.286   noise: 0.037\n",
            "Iter 37/50 - Loss: -0.017   lengthscale: 0.288   noise: 0.035\n",
            "Iter 38/50 - Loss: -0.013   lengthscale: 0.289   noise: 0.034\n",
            "Iter 39/50 - Loss: -0.010   lengthscale: 0.289   noise: 0.033\n",
            "Iter 40/50 - Loss: -0.007   lengthscale: 0.287   noise: 0.032\n",
            "Iter 41/50 - Loss: -0.005   lengthscale: 0.284   noise: 0.032\n",
            "Iter 42/50 - Loss: -0.005   lengthscale: 0.280   noise: 0.032\n",
            "Iter 43/50 - Loss: -0.006   lengthscale: 0.276   noise: 0.032\n",
            "Iter 44/50 - Loss: -0.008   lengthscale: 0.271   noise: 0.032\n",
            "Iter 45/50 - Loss: -0.010   lengthscale: 0.265   noise: 0.032\n",
            "Iter 46/50 - Loss: -0.013   lengthscale: 0.259   noise: 0.033\n",
            "Iter 47/50 - Loss: -0.016   lengthscale: 0.254   noise: 0.034\n",
            "Iter 48/50 - Loss: -0.019   lengthscale: 0.248   noise: 0.034\n",
            "Iter 49/50 - Loss: -0.021   lengthscale: 0.243   noise: 0.035\n",
            "Iter 50/50 - Loss: -0.023   lengthscale: 0.239   noise: 0.036"
          ]
        },
        {
          "output_type": "display_data",
          "metadata": {},
          "data": {
            "image/png": "[encoded data removed]"
          }
        }
      ],
      "source": [
        "import math\n",
        "import torch\n",
        "import gpytorch\n",
        "from gpytorch.kernels import ScaleKernel, RBFKernel, LinearKernel\n",
        "from matplotlib import pyplot as plt\n",
        "# Training data is 100 points in [0,1] inclusive regularly spaced\n",
        "train_x = torch.linspace(0, 1, 100)\n",
        "# True function is sin(2*pi*x) with Gaussian noise\n",
        "train_y = torch.sin(train_x * (2 * math.pi)) + torch.randn(train_x.size()) * math.sqrt(0.04)\n",
        "\n",
        "# We will use the simplest form of GP model, exact inference\n",
        "class ExactGPModel(gpytorch.models.ExactGP):\n",
        "    def __init__(self, train_x, train_y, likelihood):\n",
        "        super(ExactGPModel, self).__init__(train_x, train_y, likelihood)\n",
        "        self.mean_module = gpytorch.means.ConstantMean()\n",
        "        self.covar_module = gpytorch.kernels.ScaleKernel(gpytorch.kernels.RBFKernel())\n",
        "\n",
        "    def forward(self, x):\n",
        "        mean_x = self.mean_module(x)\n",
        "        covar_x = self.covar_module(x)\n",
        "        return gpytorch.distributions.MultivariateNormal(mean_x, covar_x)\n",
        "\n",
        "# initialize likelihood and model\n",
        "likelihood = gpytorch.likelihoods.GaussianLikelihood()\n",
        "model = ExactGPModel(train_x, train_y, likelihood)\n",
        "# Find optimal model hyperparameters\n",
        "model.train()\n",
        "likelihood.train()\n",
        "\n",
        "# Use the adam optimizer\n",
        "optimizer = torch.optim.Adam(model.parameters(), lr=0.1)  # Includes GaussianLikelihood parameters\n",
        "\n",
        "# \"Loss\" for GPs - the marginal log likelihood\n",
        "mll = gpytorch.mlls.ExactMarginalLogLikelihood(likelihood, model)\n",
        "\n",
        "training_iter = 50\n",
        "for i in range(training_iter):\n",
        "    # Zero gradients from previous iteration\n",
        "    optimizer.zero_grad()\n",
        "    # Output from model\n",
        "    output = model(train_x)\n",
        "    # Calc loss and backprop gradients\n",
        "    loss = -mll(output, train_y)\n",
        "    loss.backward()\n",
        "    print('Iter %d/%d - Loss: %.3f   lengthscale: %.3f   noise: %.3f' % (\n",
        "        i + 1, training_iter, loss.item(),\n",
        "        model.covar_module.base_kernel.lengthscale.item(),\n",
        "        model.likelihood.noise.item()\n",
        "    ))\n",
        "    optimizer.step()\n",
        "\n",
        "# Get into evaluation (predictive posterior) mode\n",
        "model.eval()\n",
        "likelihood.eval()\n",
        "\n",
        "# Test points are regularly spaced along [0,1]\n",
        "# Make predictions by feeding model through likelihood\n",
        "with torch.no_grad(), gpytorch.settings.fast_pred_var():\n",
        "    test_x = torch.linspace(0, 1, 51)\n",
        "    observed_pred = likelihood(model(test_x))\n",
        "\n",
        "with torch.no_grad():\n",
        "    # Initialize plot\n",
        "    f, ax = plt.subplots(1, 1, figsize=(4, 3))\n",
        "\n",
        "    # Get upper and lower confidence bounds\n",
        "    lower, upper = observed_pred.confidence_region()\n",
        "    # Plot training data as black stars\n",
        "    ax.plot(train_x.numpy(), train_y.numpy(), 'k*')\n",
        "    # Plot predictive means as blue line\n",
        "    ax.plot(test_x.numpy(), observed_pred.mean.numpy(), 'b')\n",
        "    # Shade between the lower and upper confidence bounds\n",
        "    ax.fill_between(test_x.numpy(), lower.numpy(), upper.numpy(), alpha=0.5)\n",
        "    ax.set_ylim([-3, 3])\n",
        "    ax.legend(['Observed Data', 'Mean', 'Confidence'])    "
      ],
      "id": "149198cd"
    },
    {
      "cell_type": "markdown",
      "metadata": {},
      "source": [
        "## Question 3.1\n",
        "\n",
        "Using the code above, try a different kernel from [the\n",
        "docs](https://docs.gpytorch.ai/en/stable/kernels.html) and plot the\n",
        "results. Doesn’t matter if it is better or worse, but you should try to\n",
        "pick a kernel that has different parameters to fit.\n",
        "\n",
        "## Question 3.2 (BONUS)\n",
        "\n",
        "Now take the code above:\n",
        "\n",
        "1.  Remove the noise in DGP\n",
        "2.  Decrease the number of generated datapoints to maybe 10 or so.\n",
        "3.  Try to see how to fit a GP without any observational noise, so that\n",
        "    it interpolates the data. I believe this requires changing the\n",
        "    likelihood object in the loop above."
      ],
      "id": "986fbcbd-1e2e-4ceb-982d-307369eec11e"
    }
  ],
  "nbformat": 4,
  "nbformat_minor": 5,
  "metadata": {
    "kernelspec": {
      "name": "python3",
      "display_name": "Python 3 (ipykernel)",
      "language": "python"
    },
    "language_info": {
      "name": "python",
      "codemirror_mode": {
        "name": "ipython",
        "version": "3"
      },
      "file_extension": ".py",
      "mimetype": "text/x-python",
      "nbconvert_exporter": "python",
      "pygments_lexer": "ipython3",
      "version": "3.11.5"
    }
  }
}